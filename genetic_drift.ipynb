{
 "cells": [
  {
   "cell_type": "code",
   "execution_count": 1,
   "id": "762b41bf-3779-4fb6-9213-177cb2819eb7",
   "metadata": {},
   "outputs": [],
   "source": [
    "import random\n",
    "\n",
    "class Individual:\n",
    "    def __init__(self, maternal, paternal):\n",
    "        self.maternal = maternal\n",
    "        self.paternal = paternal\n",
    "        self.alleles = [maternal, paternal]\n",
    "        \n",
    "    def produce_zygote(self):\n",
    "        return random.choice(self.alleles)"
   ]
  },
  {
   "cell_type": "code",
   "execution_count": 2,
   "id": "d4b5d4dc-8340-4c88-bbf0-ef1a45e1fcf3",
   "metadata": {},
   "outputs": [],
   "source": [
    "individual_1 = Individual(\"A\", \"a\")"
   ]
  },
  {
   "cell_type": "code",
   "execution_count": 3,
   "id": "a7fb8486-74c0-4da4-8931-bd4770e63e45",
   "metadata": {},
   "outputs": [
    {
     "data": {
      "text/plain": [
       "'A'"
      ]
     },
     "execution_count": 3,
     "metadata": {},
     "output_type": "execute_result"
    }
   ],
   "source": [
    "individual_1.maternal"
   ]
  },
  {
   "cell_type": "code",
   "execution_count": 9,
   "id": "2b2c52a2-e35e-4e7a-8446-dc7c84dbec85",
   "metadata": {},
   "outputs": [
    {
     "data": {
      "text/plain": [
       "['A', 'a']"
      ]
     },
     "execution_count": 9,
     "metadata": {},
     "output_type": "execute_result"
    }
   ],
   "source": [
    "individual_1.paternal\n",
    "individual_1.alleles"
   ]
  },
  {
   "cell_type": "code",
   "execution_count": 6,
   "id": "59e4caf0-1061-49ce-aafa-6b9d40cec65c",
   "metadata": {},
   "outputs": [
    {
     "data": {
      "text/plain": [
       "'a'"
      ]
     },
     "execution_count": 6,
     "metadata": {},
     "output_type": "execute_result"
    }
   ],
   "source": [
    "individual_1.produce_zygote()"
   ]
  },
  {
   "cell_type": "code",
   "execution_count": 14,
   "id": "fb535461-cd4b-410f-bc9e-754dc4d54758",
   "metadata": {},
   "outputs": [],
   "source": [
    "gen_0 = []\n",
    "allele_choices = [\"A\", \"a\"]\n",
    "for i in range(20):\n",
    "    gen_0.append(Individual(random.choice(allele_choices), random.choice(allele_choices)))\n",
    "    "
   ]
  },
  {
   "cell_type": "code",
   "execution_count": 15,
   "id": "a96beae5-81b0-41af-9bd2-5b8afca43380",
   "metadata": {},
   "outputs": [
    {
     "name": "stdout",
     "output_type": "stream",
     "text": [
      "['A', 'a']\n",
      "['a', 'A']\n",
      "['a', 'A']\n",
      "['A', 'a']\n",
      "['a', 'A']\n",
      "['a', 'a']\n",
      "['a', 'a']\n",
      "['A', 'a']\n",
      "['a', 'A']\n",
      "['a', 'a']\n",
      "['A', 'A']\n",
      "['A', 'A']\n",
      "['a', 'A']\n",
      "['a', 'A']\n",
      "['A', 'a']\n",
      "['A', 'a']\n",
      "['A', 'a']\n",
      "['A', 'A']\n",
      "['A', 'A']\n",
      "['a', 'a']\n"
     ]
    }
   ],
   "source": [
    "for i in gen_0:\n",
    "    print(i.alleles)"
   ]
  },
  {
   "cell_type": "code",
   "execution_count": 30,
   "id": "abb3b4f9-8a61-4aaa-acd0-996942aad256",
   "metadata": {},
   "outputs": [],
   "source": [
    "def simulate_gen(gen):\n",
    "    selected_individuals = random.choices(gen, k=10)\n",
    "\n",
    "    pairs = []\n",
    "    while len(selected_individuals) > 1:\n",
    "        maternal_index = random.randrange(0, len(selected_individuals))\n",
    "        maternal_indiv = selected_individuals.pop(maternal_index)\n",
    "\n",
    "        paternal_index = random.randrange(0, len(selected_individuals))\n",
    "        paternal_indiv = selected_individuals.pop(paternal_index)\n",
    "\n",
    "        pairs.append((maternal_indiv, paternal_indiv))\n",
    "\n",
    "\n",
    "    progenies = []\n",
    "    for pair in pairs:\n",
    "        mother = pair[0]\n",
    "        father = pair[1]\n",
    "        for i in range(4):\n",
    "            progeny = Individual(random.choice(mother.alleles), random.choice(father.alleles))\n",
    "            progenies.append(progeny)\n",
    "    return progenies"
   ]
  },
  {
   "cell_type": "code",
   "execution_count": 31,
   "id": "dccb0c09-32f8-4bba-b855-5bcffab3cea0",
   "metadata": {},
   "outputs": [
    {
     "data": {
      "text/plain": [
       "[<__main__.Individual at 0x15a42d11330>,\n",
       " <__main__.Individual at 0x15a42d12b30>,\n",
       " <__main__.Individual at 0x15a42d11510>,\n",
       " <__main__.Individual at 0x15a42d125c0>,\n",
       " <__main__.Individual at 0x15a42d137f0>,\n",
       " <__main__.Individual at 0x15a42d136a0>,\n",
       " <__main__.Individual at 0x15a42d12ec0>,\n",
       " <__main__.Individual at 0x15a42d10d30>,\n",
       " <__main__.Individual at 0x15a42d13700>,\n",
       " <__main__.Individual at 0x15a42d10cd0>,\n",
       " <__main__.Individual at 0x15a42d12bc0>,\n",
       " <__main__.Individual at 0x15a42d10670>,\n",
       " <__main__.Individual at 0x15a42d127d0>,\n",
       " <__main__.Individual at 0x15a42d10a60>,\n",
       " <__main__.Individual at 0x15a42d128c0>,\n",
       " <__main__.Individual at 0x15a42d12920>,\n",
       " <__main__.Individual at 0x15a42d12860>,\n",
       " <__main__.Individual at 0x15a42d13550>,\n",
       " <__main__.Individual at 0x15a42d107f0>,\n",
       " <__main__.Individual at 0x15a42d13490>]"
      ]
     },
     "execution_count": 31,
     "metadata": {},
     "output_type": "execute_result"
    }
   ],
   "source": [
    "simulate_gen(gen_0)"
   ]
  },
  {
   "cell_type": "code",
   "execution_count": 56,
   "id": "1c59d117-6119-4e1b-ba9d-7104eb96ee69",
   "metadata": {},
   "outputs": [],
   "source": [
    "gen_0 = []\n",
    "allele_choices = [\"A\", \"a\"]\n",
    "for i in range(20):\n",
    "    gen_0.append(Individual(random.choice(allele_choices), random.choice(allele_choices)))\n",
    "    \n",
    "for i in range(15):\n",
    "    gen = simulate_gen(gen_0)\n",
    "    gen_0 = gen"
   ]
  },
  {
   "cell_type": "code",
   "execution_count": 57,
   "id": "857ade93-5071-4c9b-8af4-5406f11d7658",
   "metadata": {},
   "outputs": [
    {
     "name": "stdout",
     "output_type": "stream",
     "text": [
      "['A', 'A']\n",
      "['A', 'A']\n",
      "['A', 'A']\n",
      "['A', 'A']\n",
      "['A', 'A']\n",
      "['A', 'A']\n",
      "['A', 'A']\n",
      "['A', 'A']\n",
      "['A', 'A']\n",
      "['A', 'A']\n",
      "['A', 'A']\n",
      "['A', 'A']\n",
      "['A', 'A']\n",
      "['A', 'A']\n",
      "['A', 'A']\n",
      "['A', 'A']\n",
      "['A', 'A']\n",
      "['A', 'A']\n",
      "['A', 'A']\n",
      "['A', 'A']\n"
     ]
    }
   ],
   "source": [
    "for i in gen_0:\n",
    "    print(i.alleles)"
   ]
  },
  {
   "cell_type": "code",
   "execution_count": null,
   "id": "0a12ccd3-6ff2-493f-9608-fa10645a63b5",
   "metadata": {},
   "outputs": [],
   "source": []
  }
 ],
 "metadata": {
  "kernelspec": {
   "display_name": "Python 3 (ipykernel)",
   "language": "python",
   "name": "python3"
  },
  "language_info": {
   "codemirror_mode": {
    "name": "ipython",
    "version": 3
   },
   "file_extension": ".py",
   "mimetype": "text/x-python",
   "name": "python",
   "nbconvert_exporter": "python",
   "pygments_lexer": "ipython3",
   "version": "3.10.5"
  }
 },
 "nbformat": 4,
 "nbformat_minor": 5
}
